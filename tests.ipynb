{
 "cells": [
  {
   "cell_type": "code",
   "execution_count": 114,
   "metadata": {
    "collapsed": false
   },
   "outputs": [],
   "source": [
    "%matplotlib inline\n",
    "import numpy as np\n",
    "from scipy.spatial.distance import pdist, squareform\n",
    "from sklearn.manifold import MDS\n",
    "import matplotlib.pyplot as plt\n",
    "import seaborn as sns\n",
    "sns.set_style('white')\n",
    "\n",
    "import ConstraintsFeaturesTransform"
   ]
  },
  {
   "cell_type": "code",
   "execution_count": 52,
   "metadata": {
    "collapsed": true
   },
   "outputs": [],
   "source": [
    "def draw_clusters(X, labels, colors=None, show_plt=True, show_title=False, name=None, ax=None,\n",
    "                  markersize=15, markeredgecolor='k', use_clustes_as_keys = False, linewidth=0,\n",
    "                  noise_data_color='k'):\n",
    "    import seaborn as sns\n",
    "    if (ax == None):\n",
    "        ax = plt\n",
    "\n",
    "    unique_labels = np.unique(labels)\n",
    "    label_map = sorted(unique_labels)\n",
    "    if (colors == None):\n",
    "        colors = sns.color_palette()\n",
    "        if len(colors) < len(unique_labels):\n",
    "            colors = plt.cm.Spectral(np.linspace(1, 0, len(unique_labels)))\n",
    "    has_noise = False\n",
    "\n",
    "    if not use_clustes_as_keys:\n",
    "        if (label_map[0] == -1):\n",
    "            if (isinstance(colors, list)):\n",
    "                colors = [noise_data_color] + colors\n",
    "            else:\n",
    "                colors = [noise_data_color] + colors.tolist()\n",
    "\n",
    "    #for k, col in zip(label_map, colors):\n",
    "    for k, i in zip(label_map, xrange(len(label_map))):\n",
    "        if k == -1:\n",
    "            # Black used for noise.\n",
    "            col = noise_data_color\n",
    "            has_noise = True\n",
    "        else:\n",
    "            if use_clustes_as_keys:\n",
    "                col = colors[int(k)]\n",
    "            else:\n",
    "                col = colors[i]\n",
    "        class_member_mask = (labels == k)\n",
    "        xy = X[class_member_mask]\n",
    "        ax.scatter(xy[:, 0], xy[:, 1], s=markersize, facecolor=col,\n",
    "                 edgecolor=markeredgecolor, linewidth=linewidth)\n",
    "\n",
    "    if (show_title):\n",
    "        labels_count = len(unique_labels)\n",
    "        if (has_noise):\n",
    "            labels_count = labels_count - 1\n",
    "        title_prefix = \"\"\n",
    "        if (name != None):\n",
    "            title_prefix = \"%s - \"%name\n",
    "        if hasattr(ax, 'set_title'):\n",
    "            ax.set_title((title_prefix + 'Estimated number of clusters: %d') % len(unique_labels))\n",
    "        else:\n",
    "            ax.title((title_prefix + 'Estimated number of clusters: %d') % len(unique_labels))\n",
    "\n",
    "    return ax"
   ]
  },
  {
   "cell_type": "code",
   "execution_count": 89,
   "metadata": {
    "collapsed": true
   },
   "outputs": [],
   "source": [
    "def draw_points_with_indices(data, ax=None, markersize=30, col='blue', markeredgecolor='k', linewidth=0):\n",
    "    \n",
    "    x = data[:,0]\n",
    "    y = data[:,1]\n",
    "    \n",
    "    if ax is None:\n",
    "        ax = plt.gca()\n",
    "    \n",
    "    ax.scatter(x, y, s=markersize, facecolor=col,\n",
    "         edgecolor=markeredgecolor, linewidth=linewidth)\n",
    "    \n",
    "    for i in range(len(x)):\n",
    "        ax.annotate(\"%d\"%i, (x[i] ,y[i]))"
   ]
  },
  {
   "cell_type": "code",
   "execution_count": 115,
   "metadata": {
    "collapsed": false
   },
   "outputs": [
    {
     "name": "stdout",
     "output_type": "stream",
     "text": [
      "[[ 0.          1.41421356  2.82842712  4.24264069]\n",
      " [ 1.41421356  0.          4.24264069  5.65685425]\n",
      " [ 2.82842712  4.24264069  0.          1.41421356]\n",
      " [ 4.24264069  5.65685425  1.41421356  0.        ]]\n"
     ]
    },
    {
     "data": {
      "image/png": "[encoded data removed]",
      "text/plain": [
       "<matplotlib.figure.Figure at 0x114be4090>"
      ]
     },
     "metadata": {},
     "output_type": "display_data"
    }
   ],
   "source": [
    "reload(ConstraintsFeaturesTransform)\n",
    "\n",
    "data = [\n",
    "    [-1,-1],\n",
    "    [-2,-2],\n",
    "    [1,1],\n",
    "    [2,2]\n",
    "]\n",
    "\n",
    "mat = np.matrix(data)\n",
    "\n",
    "print(squareform(pdist(data)))\n",
    "\n",
    "plt.figure()\n",
    "draw_points_with_indices(mat)"
   ]
  },
  {
   "cell_type": "code",
   "execution_count": 123,
   "metadata": {
    "collapsed": false
   },
   "outputs": [
    {
     "name": "stdout",
     "output_type": "stream",
     "text": [
      "[[ 0.          8.60232527  6.16410877  7.34846925]\n",
      " [ 8.60232527  0.          7.34846925  6.63353321]\n",
      " [ 6.16410877  7.34846925  0.          8.60232527]\n",
      " [ 7.34846925  6.63353321  8.60232527  0.        ]]\n"
     ]
    },
    {
     "data": {
      "image/png": "[encoded data removed]",
      "text/plain": [
       "<matplotlib.figure.Figure at 0x113a39510>"
      ]
     },
     "metadata": {},
     "output_type": "display_data"
    }
   ],
   "source": [
    "reload(ConstraintsFeaturesTransform)\n",
    "#must_link = [[1,3]]\n",
    "must_link = [[0,2]]\n",
    "#must_link = None\n",
    "cannot_link = [[0,1],[2,3]]\n",
    "#cannot_link = None\n",
    "transform = ConstraintsFeaturesTransform.ConstraintsFeaturesTransform()\n",
    "constrained_dists = squareform(transform.transform(mat, must_link, cannot_link))\n",
    "print(constrained_dists)\n",
    "\n",
    "mds = MDS(n_components=len(mat), max_iter=100, n_init=1, dissimilarity='precomputed')\n",
    "\n",
    "embedded_with_constraints = mds.fit_transform(constrained_dists)\n",
    "draw_points_with_indices(embedded_with_constraints)"
   ]
  }
 ],
 "metadata": {
  "kernelspec": {
   "display_name": "Python 2",
   "language": "python",
   "name": "python2"
  },
  "language_info": {
   "codemirror_mode": {
    "name": "ipython",
    "version": 2
   },
   "file_extension": ".py",
   "mimetype": "text/x-python",
   "name": "python",
   "nbconvert_exporter": "python",
   "pygments_lexer": "ipython2",
   "version": "2.7.12"
  }
 },
 "nbformat": 4,
 "nbformat_minor": 0
}
